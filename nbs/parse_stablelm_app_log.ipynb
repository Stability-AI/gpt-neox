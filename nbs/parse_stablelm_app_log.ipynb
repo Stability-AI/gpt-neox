{
 "cells": [
  {
   "cell_type": "code",
   "execution_count": 296,
   "id": "49f192d2-0309-46a9-8e33-d990947f9f60",
   "metadata": {
    "tags": []
   },
   "outputs": [],
   "source": [
    "log_file = \"/fsx/home-meng/hf_spaces/stablelm-jp-alpha/log.jsonl\"\n",
    "fbs = []\n",
    "\n",
    "prefix = \"INFO:root:\"\n",
    "with open(log_file, \"r\") as fp:\n",
    "    for l in fp.readlines():\n",
    "        if not l.startswith(prefix): continue\n",
    "        \n",
    "        l = l.replace(prefix, \"\")\n",
    "        l = l[:-1] if l.endswith(\"\\n\") else l\n",
    "        \n",
    "        fbs.append(eval(l))\n",
    "        # break"
   ]
  },
  {
   "cell_type": "code",
   "execution_count": 297,
   "id": "f8a6b6b0-815a-4ad2-978a-bea199641c5d",
   "metadata": {
    "tags": []
   },
   "outputs": [
    {
     "data": {
      "text/plain": [
       "(3255, 10)"
      ]
     },
     "execution_count": 297,
     "metadata": {},
     "output_type": "execute_result"
    }
   ],
   "source": [
    "df = pd.DataFrame.from_records(fbs)\n",
    "df = df[~df.duplicated([\"prompt\", \"generation\", \"rating\"])]\n",
    "df.shape"
   ]
  },
  {
   "cell_type": "code",
   "execution_count": 298,
   "id": "ac62b578-0df2-4fed-a077-d57ac06ecb8d",
   "metadata": {
    "tags": []
   },
   "outputs": [
    {
     "data": {
      "text/plain": [
       "count     447\n",
       "unique      5\n",
       "top       不合格\n",
       "freq      184\n",
       "Name: rating, dtype: object"
      ]
     },
     "execution_count": 298,
     "metadata": {},
     "output_type": "execute_result"
    }
   ],
   "source": [
    "df.rating.describe()"
   ]
  },
  {
   "cell_type": "code",
   "execution_count": 299,
   "id": "71a3c8b8-b511-421a-8811-e4266ff8898a",
   "metadata": {
    "tags": []
   },
   "outputs": [
    {
     "data": {
      "text/plain": [
       "不合格    0.411633\n",
       "最悪     0.299776\n",
       "中立     0.134228\n",
       "合格     0.111857\n",
       "最高     0.042506\n",
       "Name: rating, dtype: float64"
      ]
     },
     "execution_count": 299,
     "metadata": {},
     "output_type": "execute_result"
    }
   ],
   "source": [
    "df.rating.value_counts(normalize=True)"
   ]
  },
  {
   "cell_type": "code",
   "execution_count": 300,
   "id": "aa5a843a-905d-456c-9b45-3da418a90d41",
   "metadata": {
    "tags": []
   },
   "outputs": [
    {
     "data": {
      "text/html": [
       "<div>\n",
       "<style scoped>\n",
       "    .dataframe tbody tr th:only-of-type {\n",
       "        vertical-align: middle;\n",
       "    }\n",
       "\n",
       "    .dataframe tbody tr th {\n",
       "        vertical-align: top;\n",
       "    }\n",
       "\n",
       "    .dataframe thead th {\n",
       "        text-align: right;\n",
       "    }\n",
       "</style>\n",
       "<table border=\"1\" class=\"dataframe\">\n",
       "  <thead>\n",
       "    <tr style=\"text-align: right;\">\n",
       "      <th></th>\n",
       "      <th>count</th>\n",
       "      <th>mean</th>\n",
       "      <th>std</th>\n",
       "      <th>min</th>\n",
       "      <th>25%</th>\n",
       "      <th>50%</th>\n",
       "      <th>75%</th>\n",
       "      <th>max</th>\n",
       "    </tr>\n",
       "    <tr>\n",
       "      <th>rating</th>\n",
       "      <th></th>\n",
       "      <th></th>\n",
       "      <th></th>\n",
       "      <th></th>\n",
       "      <th></th>\n",
       "      <th></th>\n",
       "      <th></th>\n",
       "      <th></th>\n",
       "    </tr>\n",
       "  </thead>\n",
       "  <tbody>\n",
       "    <tr>\n",
       "      <th>不合格</th>\n",
       "      <td>184.0</td>\n",
       "      <td>0.681250</td>\n",
       "      <td>0.129581</td>\n",
       "      <td>0.05</td>\n",
       "      <td>0.7</td>\n",
       "      <td>0.7</td>\n",
       "      <td>0.7</td>\n",
       "      <td>1.00</td>\n",
       "    </tr>\n",
       "    <tr>\n",
       "      <th>中立</th>\n",
       "      <td>60.0</td>\n",
       "      <td>0.686667</td>\n",
       "      <td>0.081753</td>\n",
       "      <td>0.15</td>\n",
       "      <td>0.7</td>\n",
       "      <td>0.7</td>\n",
       "      <td>0.7</td>\n",
       "      <td>0.85</td>\n",
       "    </tr>\n",
       "    <tr>\n",
       "      <th>合格</th>\n",
       "      <td>50.0</td>\n",
       "      <td>0.621000</td>\n",
       "      <td>0.180444</td>\n",
       "      <td>0.05</td>\n",
       "      <td>0.7</td>\n",
       "      <td>0.7</td>\n",
       "      <td>0.7</td>\n",
       "      <td>0.85</td>\n",
       "    </tr>\n",
       "    <tr>\n",
       "      <th>最悪</th>\n",
       "      <td>134.0</td>\n",
       "      <td>0.682836</td>\n",
       "      <td>0.143021</td>\n",
       "      <td>0.00</td>\n",
       "      <td>0.7</td>\n",
       "      <td>0.7</td>\n",
       "      <td>0.7</td>\n",
       "      <td>1.00</td>\n",
       "    </tr>\n",
       "    <tr>\n",
       "      <th>最高</th>\n",
       "      <td>19.0</td>\n",
       "      <td>0.650000</td>\n",
       "      <td>0.160728</td>\n",
       "      <td>0.05</td>\n",
       "      <td>0.7</td>\n",
       "      <td>0.7</td>\n",
       "      <td>0.7</td>\n",
       "      <td>0.70</td>\n",
       "    </tr>\n",
       "  </tbody>\n",
       "</table>\n",
       "</div>"
      ],
      "text/plain": [
       "        count      mean       std   min  25%  50%  75%   max\n",
       "rating                                                      \n",
       "不合格     184.0  0.681250  0.129581  0.05  0.7  0.7  0.7  1.00\n",
       "中立       60.0  0.686667  0.081753  0.15  0.7  0.7  0.7  0.85\n",
       "合格       50.0  0.621000  0.180444  0.05  0.7  0.7  0.7  0.85\n",
       "最悪      134.0  0.682836  0.143021  0.00  0.7  0.7  0.7  1.00\n",
       "最高       19.0  0.650000  0.160728  0.05  0.7  0.7  0.7  0.70"
      ]
     },
     "execution_count": 300,
     "metadata": {},
     "output_type": "execute_result"
    }
   ],
   "source": [
    "df.groupby(\"rating\").temperature.describe()"
   ]
  },
  {
   "cell_type": "code",
   "execution_count": 301,
   "id": "eff3af7f-6dc1-4ab0-883b-8ca5752bd585",
   "metadata": {
    "tags": []
   },
   "outputs": [
    {
     "data": {
      "text/html": [
       "<div>\n",
       "<style scoped>\n",
       "    .dataframe tbody tr th:only-of-type {\n",
       "        vertical-align: middle;\n",
       "    }\n",
       "\n",
       "    .dataframe tbody tr th {\n",
       "        vertical-align: top;\n",
       "    }\n",
       "\n",
       "    .dataframe thead th {\n",
       "        text-align: right;\n",
       "    }\n",
       "</style>\n",
       "<table border=\"1\" class=\"dataframe\">\n",
       "  <thead>\n",
       "    <tr style=\"text-align: right;\">\n",
       "      <th></th>\n",
       "      <th>count</th>\n",
       "      <th>mean</th>\n",
       "      <th>std</th>\n",
       "      <th>min</th>\n",
       "      <th>25%</th>\n",
       "      <th>50%</th>\n",
       "      <th>75%</th>\n",
       "      <th>max</th>\n",
       "    </tr>\n",
       "    <tr>\n",
       "      <th>rating</th>\n",
       "      <th></th>\n",
       "      <th></th>\n",
       "      <th></th>\n",
       "      <th></th>\n",
       "      <th></th>\n",
       "      <th></th>\n",
       "      <th></th>\n",
       "      <th></th>\n",
       "    </tr>\n",
       "  </thead>\n",
       "  <tbody>\n",
       "    <tr>\n",
       "      <th>不合格</th>\n",
       "      <td>184.0</td>\n",
       "      <td>177.391304</td>\n",
       "      <td>109.980918</td>\n",
       "      <td>128.0</td>\n",
       "      <td>128.0</td>\n",
       "      <td>128.0</td>\n",
       "      <td>128.0</td>\n",
       "      <td>512.0</td>\n",
       "    </tr>\n",
       "    <tr>\n",
       "      <th>中立</th>\n",
       "      <td>60.0</td>\n",
       "      <td>195.200000</td>\n",
       "      <td>142.098176</td>\n",
       "      <td>128.0</td>\n",
       "      <td>128.0</td>\n",
       "      <td>128.0</td>\n",
       "      <td>128.0</td>\n",
       "      <td>512.0</td>\n",
       "    </tr>\n",
       "    <tr>\n",
       "      <th>合格</th>\n",
       "      <td>50.0</td>\n",
       "      <td>166.400000</td>\n",
       "      <td>104.244610</td>\n",
       "      <td>128.0</td>\n",
       "      <td>128.0</td>\n",
       "      <td>128.0</td>\n",
       "      <td>128.0</td>\n",
       "      <td>512.0</td>\n",
       "    </tr>\n",
       "    <tr>\n",
       "      <th>最悪</th>\n",
       "      <td>134.0</td>\n",
       "      <td>167.164179</td>\n",
       "      <td>101.999351</td>\n",
       "      <td>128.0</td>\n",
       "      <td>128.0</td>\n",
       "      <td>128.0</td>\n",
       "      <td>128.0</td>\n",
       "      <td>512.0</td>\n",
       "    </tr>\n",
       "    <tr>\n",
       "      <th>最高</th>\n",
       "      <td>19.0</td>\n",
       "      <td>161.684211</td>\n",
       "      <td>93.887079</td>\n",
       "      <td>128.0</td>\n",
       "      <td>128.0</td>\n",
       "      <td>128.0</td>\n",
       "      <td>128.0</td>\n",
       "      <td>512.0</td>\n",
       "    </tr>\n",
       "  </tbody>\n",
       "</table>\n",
       "</div>"
      ],
      "text/plain": [
       "        count        mean         std    min    25%    50%    75%    max\n",
       "rating                                                                  \n",
       "不合格     184.0  177.391304  109.980918  128.0  128.0  128.0  128.0  512.0\n",
       "中立       60.0  195.200000  142.098176  128.0  128.0  128.0  128.0  512.0\n",
       "合格       50.0  166.400000  104.244610  128.0  128.0  128.0  128.0  512.0\n",
       "最悪      134.0  167.164179  101.999351  128.0  128.0  128.0  128.0  512.0\n",
       "最高       19.0  161.684211   93.887079  128.0  128.0  128.0  128.0  512.0"
      ]
     },
     "execution_count": 301,
     "metadata": {},
     "output_type": "execute_result"
    }
   ],
   "source": [
    "df.groupby(\"rating\").max_new_tokens.describe()"
   ]
  },
  {
   "cell_type": "code",
   "execution_count": 302,
   "id": "490344ca-a246-40dd-8cb3-2c468dbabe53",
   "metadata": {
    "tags": []
   },
   "outputs": [],
   "source": [
    "from IPython.display import display"
   ]
  },
  {
   "cell_type": "code",
   "execution_count": 303,
   "id": "bc6936c8-0376-4335-9deb-ceea1163ff46",
   "metadata": {
    "tags": []
   },
   "outputs": [],
   "source": [
    "# for r in df.rating.unique():\n",
    "#     print(r)\n",
    "#     display(df[df.rating == r].head(1))"
   ]
  },
  {
   "cell_type": "code",
   "execution_count": 304,
   "id": "8539ad4b-0e41-4df2-a2ee-54cdebc58cc3",
   "metadata": {
    "tags": []
   },
   "outputs": [
    {
     "data": {
      "text/plain": [
       "Index(['prompt', 'max_new_tokens', 'temperature', 'repetition_penalty',\n",
       "       'do_sample', 'no_repeat_ngram_size', 'generation', 'time', 'rating',\n",
       "       'version'],\n",
       "      dtype='object')"
      ]
     },
     "execution_count": 304,
     "metadata": {},
     "output_type": "execute_result"
    }
   ],
   "source": [
    "df.columns"
   ]
  },
  {
   "cell_type": "code",
   "execution_count": null,
   "id": "1a639ed2-05e6-4b47-863b-84ef03a6c163",
   "metadata": {
    "tags": []
   },
   "outputs": [],
   "source": [
    "# df = df.loc[:, ['rating', 'prompt', 'generation', 'time', 'temperature', 'repetition_penalty']]\n"
   ]
  },
  {
   "cell_type": "code",
   "execution_count": 277,
   "id": "2f714085-2d9a-4dbe-9d18-f9622911508c",
   "metadata": {
    "tags": []
   },
   "outputs": [],
   "source": [
    "# df = df.sort_values(\"rating\")"
   ]
  },
  {
   "cell_type": "code",
   "execution_count": 196,
   "id": "f42df710-6d67-4cbf-a44e-62ba382809ab",
   "metadata": {},
   "outputs": [],
   "source": []
  },
  {
   "cell_type": "code",
   "execution_count": null,
   "id": "6d71918c-7173-428b-b42e-fe54703ae200",
   "metadata": {},
   "outputs": [],
   "source": [
    "n = len(df)"
   ]
  },
  {
   "cell_type": "code",
   "execution_count": 305,
   "id": "b38bc5bd-cdb4-4f13-944f-fe32ec3829d7",
   "metadata": {
    "tags": []
   },
   "outputs": [],
   "source": [
    "df['prompt'] = df.prompt.apply(lambda x: x.strip())"
   ]
  },
  {
   "cell_type": "code",
   "execution_count": 306,
   "id": "36a656ef-4642-4f47-b3c3-f82ec9756eb1",
   "metadata": {
    "tags": []
   },
   "outputs": [],
   "source": [
    "question = df.prompt.str.endswith(\"？\") \\\n",
    "    | df.prompt.str.endswith(\"教えて。\") \\\n",
    "    | df.prompt.str.endswith(\"教えて\") \\\n",
    "    | df.prompt.str.endswith(\"ね\")\n",
    "\n",
    "command = df.prompt.str.endswith(\"ださい\") \\\n",
    "    | df.prompt.str.endswith(\"！\") \\\n",
    "\n",
    "say_hi = df.prompt.str.contains(\"こんにちは\") \\\n",
    "    | df.prompt.str.endswith(\"よろしく\")\n",
    "\n",
    "natural_cont = df.prompt.str.endswith(\"は\") \\\n",
    "    | df.prompt.str.endswith(\"は、\") \\\n",
    "    | df.prompt.str.endswith(\"、\") \\\n",
    "    | df.prompt.str.endswith(\"「\")\n",
    "\n",
    "# english = df.prompt.apply(lambda x: True if x.isalnum() else False)\n",
    "\n",
    "categorized = question | command | say_hi | natural_cont\n",
    "\n",
    "i = 0\n",
    "for t in df[~categorized].itertuples():\n",
    "    i += 1\n",
    "    # print(i, t.prompt[:100])\n",
    "    # print()"
   ]
  },
  {
   "cell_type": "code",
   "execution_count": 307,
   "id": "913a917b-13c0-4aaf-9971-bf64599d1bbb",
   "metadata": {
    "tags": []
   },
   "outputs": [
    {
     "name": "stdout",
     "output_type": "stream",
     "text": [
      "239 question 0.08380084151472651\n",
      "98 command 0.034361851332398316\n",
      "201 say_hi 0.07047685834502104\n",
      "1239 natural_cont 0.4344319775596073\n"
     ]
    }
   ],
   "source": [
    "types =      [question, command, say_hi, natural_cont]\n",
    "type_names = ['question', 'command', 'say_hi', 'natural_cont']\n",
    "for t, name in zip(types, type_names):\n",
    "    d = df[t]\n",
    "    print(d.shape[0], name, d.shape[0] / n)\n",
    "    df.loc[t, 'type'] = name\n",
    "    # print(display(d.head(2)))"
   ]
  },
  {
   "cell_type": "code",
   "execution_count": 308,
   "id": "e48dd49f-2116-4e16-b736-b40ba14c61b0",
   "metadata": {
    "tags": []
   },
   "outputs": [],
   "source": [
    "df.loc[df['type'].isna(), ['type']] = 'others'"
   ]
  },
  {
   "cell_type": "code",
   "execution_count": 309,
   "id": "3242825e-b854-4fad-9522-a99c8c58831d",
   "metadata": {
    "tags": []
   },
   "outputs": [
    {
     "data": {
      "text/plain": [
       "others          0.500768\n",
       "natural_cont    0.380645\n",
       "question        0.072197\n",
       "command         0.028879\n",
       "say_hi          0.017512\n",
       "Name: type, dtype: float64"
      ]
     },
     "execution_count": 309,
     "metadata": {},
     "output_type": "execute_result"
    }
   ],
   "source": [
    "df['type'].value_counts(normalize=True)"
   ]
  },
  {
   "cell_type": "code",
   "execution_count": 319,
   "id": "dd81dbd2-d4c6-4567-ba7c-ada19a10f8c7",
   "metadata": {
    "tags": []
   },
   "outputs": [
    {
     "data": {
      "text/plain": [
       "others          0.500768\n",
       "natural_cont    0.380645\n",
       "question        0.072197\n",
       "command         0.028879\n",
       "say_hi          0.017512\n",
       "Name: type, dtype: float64"
      ]
     },
     "execution_count": 319,
     "metadata": {},
     "output_type": "execute_result"
    }
   ],
   "source": [
    "df['type'].value_counts(normalize=True)"
   ]
  },
  {
   "cell_type": "code",
   "execution_count": 314,
   "id": "28b51dc3-728b-45a6-a518-ed4940145c0c",
   "metadata": {
    "tags": []
   },
   "outputs": [
    {
     "data": {
      "text/html": [
       "<div>\n",
       "<style scoped>\n",
       "    .dataframe tbody tr th:only-of-type {\n",
       "        vertical-align: middle;\n",
       "    }\n",
       "\n",
       "    .dataframe tbody tr th {\n",
       "        vertical-align: top;\n",
       "    }\n",
       "\n",
       "    .dataframe thead th {\n",
       "        text-align: right;\n",
       "    }\n",
       "</style>\n",
       "<table border=\"1\" class=\"dataframe\">\n",
       "  <thead>\n",
       "    <tr style=\"text-align: right;\">\n",
       "      <th></th>\n",
       "      <th></th>\n",
       "      <th>rating</th>\n",
       "    </tr>\n",
       "    <tr>\n",
       "      <th>type</th>\n",
       "      <th>rating</th>\n",
       "      <th></th>\n",
       "    </tr>\n",
       "  </thead>\n",
       "  <tbody>\n",
       "    <tr>\n",
       "      <th rowspan=\"4\" valign=\"top\">command</th>\n",
       "      <th>最悪</th>\n",
       "      <td>0.46</td>\n",
       "    </tr>\n",
       "    <tr>\n",
       "      <th>不合格</th>\n",
       "      <td>0.38</td>\n",
       "    </tr>\n",
       "    <tr>\n",
       "      <th>中立</th>\n",
       "      <td>0.08</td>\n",
       "    </tr>\n",
       "    <tr>\n",
       "      <th>最高</th>\n",
       "      <td>0.08</td>\n",
       "    </tr>\n",
       "    <tr>\n",
       "      <th rowspan=\"5\" valign=\"top\">natural_cont</th>\n",
       "      <th>不合格</th>\n",
       "      <td>0.39</td>\n",
       "    </tr>\n",
       "    <tr>\n",
       "      <th>最悪</th>\n",
       "      <td>0.27</td>\n",
       "    </tr>\n",
       "    <tr>\n",
       "      <th>中立</th>\n",
       "      <td>0.16</td>\n",
       "    </tr>\n",
       "    <tr>\n",
       "      <th>合格</th>\n",
       "      <td>0.15</td>\n",
       "    </tr>\n",
       "    <tr>\n",
       "      <th>最高</th>\n",
       "      <td>0.03</td>\n",
       "    </tr>\n",
       "    <tr>\n",
       "      <th rowspan=\"5\" valign=\"top\">others</th>\n",
       "      <th>不合格</th>\n",
       "      <td>0.43</td>\n",
       "    </tr>\n",
       "    <tr>\n",
       "      <th>最悪</th>\n",
       "      <td>0.28</td>\n",
       "    </tr>\n",
       "    <tr>\n",
       "      <th>中立</th>\n",
       "      <td>0.14</td>\n",
       "    </tr>\n",
       "    <tr>\n",
       "      <th>合格</th>\n",
       "      <td>0.09</td>\n",
       "    </tr>\n",
       "    <tr>\n",
       "      <th>最高</th>\n",
       "      <td>0.06</td>\n",
       "    </tr>\n",
       "    <tr>\n",
       "      <th rowspan=\"4\" valign=\"top\">question</th>\n",
       "      <th>最悪</th>\n",
       "      <td>0.53</td>\n",
       "    </tr>\n",
       "    <tr>\n",
       "      <th>不合格</th>\n",
       "      <td>0.42</td>\n",
       "    </tr>\n",
       "    <tr>\n",
       "      <th>合格</th>\n",
       "      <td>0.03</td>\n",
       "    </tr>\n",
       "    <tr>\n",
       "      <th>最高</th>\n",
       "      <td>0.03</td>\n",
       "    </tr>\n",
       "    <tr>\n",
       "      <th rowspan=\"3\" valign=\"top\">say_hi</th>\n",
       "      <th>不合格</th>\n",
       "      <td>0.71</td>\n",
       "    </tr>\n",
       "    <tr>\n",
       "      <th>合格</th>\n",
       "      <td>0.14</td>\n",
       "    </tr>\n",
       "    <tr>\n",
       "      <th>最悪</th>\n",
       "      <td>0.14</td>\n",
       "    </tr>\n",
       "  </tbody>\n",
       "</table>\n",
       "</div>"
      ],
      "text/plain": [
       "                     rating\n",
       "type         rating        \n",
       "command      最悪        0.46\n",
       "             不合格       0.38\n",
       "             中立        0.08\n",
       "             最高        0.08\n",
       "natural_cont 不合格       0.39\n",
       "             最悪        0.27\n",
       "             中立        0.16\n",
       "             合格        0.15\n",
       "             最高        0.03\n",
       "others       不合格       0.43\n",
       "             最悪        0.28\n",
       "             中立        0.14\n",
       "             合格        0.09\n",
       "             最高        0.06\n",
       "question     最悪        0.53\n",
       "             不合格       0.42\n",
       "             合格        0.03\n",
       "             最高        0.03\n",
       "say_hi       不合格       0.71\n",
       "             合格        0.14\n",
       "             最悪        0.14"
      ]
     },
     "execution_count": 314,
     "metadata": {},
     "output_type": "execute_result"
    }
   ],
   "source": [
    "df.groupby(['type']).rating.value_counts(ascending=False, normalize=True).to_frame().round(2)"
   ]
  },
  {
   "cell_type": "code",
   "execution_count": 316,
   "id": "6a952121-d9df-4fb5-9ff8-2ecc3b0d7dda",
   "metadata": {
    "tags": []
   },
   "outputs": [],
   "source": [
    "df = df.loc[:, ['type', 'rating', 'prompt', 'generation', 'version', 'time']]"
   ]
  },
  {
   "cell_type": "code",
   "execution_count": 317,
   "id": "b624ccd3-fe05-4490-9600-aebaec71a14b",
   "metadata": {
    "tags": []
   },
   "outputs": [],
   "source": [
    "df.to_csv(\"/fsx/home-meng/hf_spaces/stablelm-jp-alpha/processed_app_log.tsv\", sep=\"\\t\")"
   ]
  }
 ],
 "metadata": {
  "kernelspec": {
   "display_name": "Python 3 (ipykernel)",
   "language": "python",
   "name": "python3"
  },
  "language_info": {
   "codemirror_mode": {
    "name": "ipython",
    "version": 3
   },
   "file_extension": ".py",
   "mimetype": "text/x-python",
   "name": "python",
   "nbconvert_exporter": "python",
   "pygments_lexer": "ipython3",
   "version": "3.8.2"
  }
 },
 "nbformat": 4,
 "nbformat_minor": 5
}
